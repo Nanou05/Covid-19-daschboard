{
  "nbformat": 4,
  "nbformat_minor": 0,
  "metadata": {
    "colab": {
      "name": "Untitled0.ipynb",
      "provenance": [],
      "collapsed_sections": [],
      "authorship_tag": "ABX9TyPUOmjUtXKmFghksdMWfj01",
      "include_colab_link": true
    },
    "kernelspec": {
      "name": "python3",
      "display_name": "Python 3"
    },
    "language_info": {
      "name": "python"
    }
  },
  "cells": [
    {
      "cell_type": "markdown",
      "metadata": {
        "id": "view-in-github",
        "colab_type": "text"
      },
      "source": [
        "<a href=\"https://colab.research.google.com/github/Nanou05/Covid-19-dashboard/blob/main/survival_analysis.ipynb\" target=\"_parent\"><img src=\"https://colab.research.google.com/assets/colab-badge.svg\" alt=\"Open In Colab\"/></a>"
      ]
    },
    {
      "cell_type": "code",
      "metadata": {
        "colab": {
          "base_uri": "https://localhost:8080/"
        },
        "id": "viR92FqXV4ud",
        "outputId": "28c1293e-414b-4357-ed06-acfba8d2c47a"
      },
      "source": [
        "!pip install lifelines # installer le package Lifelines qui nous permettra d'utiliser Kaplan Meier"
      ],
      "execution_count": 5,
      "outputs": [
        {
          "output_type": "stream",
          "text": [
            "Collecting lifelines\n",
            "\u001b[?25l  Downloading https://files.pythonhosted.org/packages/51/af/6b2815701c12d6dc8be11c9234fe87bb55b51788d9cc41b39c92952d577a/lifelines-0.25.11-py3-none-any.whl (348kB)\n",
            "\r\u001b[K     |█                               | 10kB 16.0MB/s eta 0:00:01\r\u001b[K     |█▉                              | 20kB 21.2MB/s eta 0:00:01\r\u001b[K     |██▉                             | 30kB 10.4MB/s eta 0:00:01\r\u001b[K     |███▊                            | 40kB 8.6MB/s eta 0:00:01\r\u001b[K     |████▊                           | 51kB 5.3MB/s eta 0:00:01\r\u001b[K     |█████▋                          | 61kB 5.4MB/s eta 0:00:01\r\u001b[K     |██████▋                         | 71kB 5.8MB/s eta 0:00:01\r\u001b[K     |███████▌                        | 81kB 6.1MB/s eta 0:00:01\r\u001b[K     |████████▌                       | 92kB 6.1MB/s eta 0:00:01\r\u001b[K     |█████████▍                      | 102kB 6.6MB/s eta 0:00:01\r\u001b[K     |██████████▍                     | 112kB 6.6MB/s eta 0:00:01\r\u001b[K     |███████████▎                    | 122kB 6.6MB/s eta 0:00:01\r\u001b[K     |████████████▎                   | 133kB 6.6MB/s eta 0:00:01\r\u001b[K     |█████████████▏                  | 143kB 6.6MB/s eta 0:00:01\r\u001b[K     |██████████████▏                 | 153kB 6.6MB/s eta 0:00:01\r\u001b[K     |███████████████                 | 163kB 6.6MB/s eta 0:00:01\r\u001b[K     |████████████████                | 174kB 6.6MB/s eta 0:00:01\r\u001b[K     |█████████████████               | 184kB 6.6MB/s eta 0:00:01\r\u001b[K     |██████████████████              | 194kB 6.6MB/s eta 0:00:01\r\u001b[K     |██████████████████▉             | 204kB 6.6MB/s eta 0:00:01\r\u001b[K     |███████████████████▊            | 215kB 6.6MB/s eta 0:00:01\r\u001b[K     |████████████████████▊           | 225kB 6.6MB/s eta 0:00:01\r\u001b[K     |█████████████████████▋          | 235kB 6.6MB/s eta 0:00:01\r\u001b[K     |██████████████████████▋         | 245kB 6.6MB/s eta 0:00:01\r\u001b[K     |███████████████████████▌        | 256kB 6.6MB/s eta 0:00:01\r\u001b[K     |████████████████████████▌       | 266kB 6.6MB/s eta 0:00:01\r\u001b[K     |█████████████████████████▍      | 276kB 6.6MB/s eta 0:00:01\r\u001b[K     |██████████████████████████▍     | 286kB 6.6MB/s eta 0:00:01\r\u001b[K     |███████████████████████████▎    | 296kB 6.6MB/s eta 0:00:01\r\u001b[K     |████████████████████████████▎   | 307kB 6.6MB/s eta 0:00:01\r\u001b[K     |█████████████████████████████▏  | 317kB 6.6MB/s eta 0:00:01\r\u001b[K     |██████████████████████████████▏ | 327kB 6.6MB/s eta 0:00:01\r\u001b[K     |███████████████████████████████ | 337kB 6.6MB/s eta 0:00:01\r\u001b[K     |████████████████████████████████| 348kB 6.6MB/s \n",
            "\u001b[?25hCollecting autograd-gamma>=0.3\n",
            "  Downloading https://files.pythonhosted.org/packages/85/ae/7f2031ea76140444b2453fa139041e5afd4a09fc5300cfefeb1103291f80/autograd-gamma-0.5.0.tar.gz\n",
            "Collecting formulaic<0.3,>=0.2.2\n",
            "\u001b[?25l  Downloading https://files.pythonhosted.org/packages/02/64/6702b5cadc89ece93af2e01996504f3a895196354a35713e2ef22f089d3e/formulaic-0.2.3-py3-none-any.whl (55kB)\n",
            "\u001b[K     |████████████████████████████████| 61kB 5.1MB/s \n",
            "\u001b[?25hRequirement already satisfied: autograd>=1.3 in /usr/local/lib/python3.7/dist-packages (from lifelines) (1.3)\n",
            "Requirement already satisfied: pandas>=0.23.0 in /usr/local/lib/python3.7/dist-packages (from lifelines) (1.1.5)\n",
            "Requirement already satisfied: scipy>=1.2.0 in /usr/local/lib/python3.7/dist-packages (from lifelines) (1.4.1)\n",
            "Requirement already satisfied: numpy>=1.14.0 in /usr/local/lib/python3.7/dist-packages (from lifelines) (1.19.5)\n",
            "Requirement already satisfied: matplotlib>=3.0 in /usr/local/lib/python3.7/dist-packages (from lifelines) (3.2.2)\n",
            "Requirement already satisfied: wrapt in /usr/local/lib/python3.7/dist-packages (from formulaic<0.3,>=0.2.2->lifelines) (1.12.1)\n",
            "Collecting interface-meta>=1.2\n",
            "  Downloading https://files.pythonhosted.org/packages/71/31/5e474208f5df9012ebecfaa23884b14f93671ea4f4f6d468eb096b73e499/interface_meta-1.2.3-py2.py3-none-any.whl\n",
            "Requirement already satisfied: astor in /usr/local/lib/python3.7/dist-packages (from formulaic<0.3,>=0.2.2->lifelines) (0.8.1)\n",
            "Requirement already satisfied: future>=0.15.2 in /usr/local/lib/python3.7/dist-packages (from autograd>=1.3->lifelines) (0.16.0)\n",
            "Requirement already satisfied: pytz>=2017.2 in /usr/local/lib/python3.7/dist-packages (from pandas>=0.23.0->lifelines) (2018.9)\n",
            "Requirement already satisfied: python-dateutil>=2.7.3 in /usr/local/lib/python3.7/dist-packages (from pandas>=0.23.0->lifelines) (2.8.1)\n",
            "Requirement already satisfied: pyparsing!=2.0.4,!=2.1.2,!=2.1.6,>=2.0.1 in /usr/local/lib/python3.7/dist-packages (from matplotlib>=3.0->lifelines) (2.4.7)\n",
            "Requirement already satisfied: cycler>=0.10 in /usr/local/lib/python3.7/dist-packages (from matplotlib>=3.0->lifelines) (0.10.0)\n",
            "Requirement already satisfied: kiwisolver>=1.0.1 in /usr/local/lib/python3.7/dist-packages (from matplotlib>=3.0->lifelines) (1.3.1)\n",
            "Requirement already satisfied: six>=1.5 in /usr/local/lib/python3.7/dist-packages (from python-dateutil>=2.7.3->pandas>=0.23.0->lifelines) (1.15.0)\n",
            "Building wheels for collected packages: autograd-gamma\n",
            "  Building wheel for autograd-gamma (setup.py) ... \u001b[?25l\u001b[?25hdone\n",
            "  Created wheel for autograd-gamma: filename=autograd_gamma-0.5.0-cp37-none-any.whl size=4035 sha256=f327247b50d20a942230d9d045c902846cabc911cda56c018726b5a7e90c8541\n",
            "  Stored in directory: /root/.cache/pip/wheels/dc/68/dc/91321c55fba449755524481854f5be70d41912b8f886f908bb\n",
            "Successfully built autograd-gamma\n",
            "Installing collected packages: autograd-gamma, interface-meta, formulaic, lifelines\n",
            "Successfully installed autograd-gamma-0.5.0 formulaic-0.2.3 interface-meta-1.2.3 lifelines-0.25.11\n"
          ],
          "name": "stdout"
        }
      ]
    },
    {
      "cell_type": "code",
      "metadata": {
        "colab": {
          "base_uri": "https://localhost:8080/"
        },
        "id": "N3X5WdvuROgp",
        "outputId": "545b443d-a5ac-40a4-d774-6f1cc876f8a4"
      },
      "source": [
        "# MOUNTING GOOGLE COLAB WITH THE DRIVE ACCOUNT\n",
        "\n",
        "from google.colab import drive\n",
        "drive.mount('/content/drive')"
      ],
      "execution_count": 1,
      "outputs": [
        {
          "output_type": "stream",
          "text": [
            "Mounted at /content/drive\n"
          ],
          "name": "stdout"
        }
      ]
    },
    {
      "cell_type": "code",
      "metadata": {
        "id": "ZYpb-9fjVqGJ"
      },
      "source": [
        "# Importer les packages\n",
        "\n",
        "import pandas as pd\n",
        "import matplotlib.pyplot as plt\n",
        "from lifelines import KaplanMeierFitter\n",
        "import io\n",
        "import numpy as np"
      ],
      "execution_count": 26,
      "outputs": []
    },
    {
      "cell_type": "code",
      "metadata": {
        "colab": {
          "base_uri": "https://localhost:8080/",
          "height": 445
        },
        "id": "Mfh_t6BFRhqv",
        "outputId": "018e35fa-6da6-4430-ccbc-eea3760ee0c9"
      },
      "source": [
        "# télécharger les données mondiales\n",
        "df1 = pd.read_csv('/content/drive/My Drive/latestdata.csv', sep = ',', error_bad_lines= False,parse_dates=False)\n",
        "df1.head(5)"
      ],
      "execution_count": 19,
      "outputs": [
        {
          "output_type": "stream",
          "text": [
            "/usr/local/lib/python3.7/dist-packages/IPython/core/interactiveshell.py:2718: DtypeWarning: Columns (1,2,9,10,12,13,14,15,16,17,19,20,21,22,23,24,25,26,27,31,32) have mixed types.Specify dtype option on import or set low_memory=False.\n",
            "  interactivity=interactivity, compiler=compiler, result=result)\n"
          ],
          "name": "stderr"
        },
        {
          "output_type": "execute_result",
          "data": {
            "text/html": [
              "<div>\n",
              "<style scoped>\n",
              "    .dataframe tbody tr th:only-of-type {\n",
              "        vertical-align: middle;\n",
              "    }\n",
              "\n",
              "    .dataframe tbody tr th {\n",
              "        vertical-align: top;\n",
              "    }\n",
              "\n",
              "    .dataframe thead th {\n",
              "        text-align: right;\n",
              "    }\n",
              "</style>\n",
              "<table border=\"1\" class=\"dataframe\">\n",
              "  <thead>\n",
              "    <tr style=\"text-align: right;\">\n",
              "      <th></th>\n",
              "      <th>ID</th>\n",
              "      <th>age</th>\n",
              "      <th>sex</th>\n",
              "      <th>city</th>\n",
              "      <th>province</th>\n",
              "      <th>country</th>\n",
              "      <th>latitude</th>\n",
              "      <th>longitude</th>\n",
              "      <th>geo_resolution</th>\n",
              "      <th>date_onset_symptoms</th>\n",
              "      <th>date_admission_hospital</th>\n",
              "      <th>date_confirmation</th>\n",
              "      <th>symptoms</th>\n",
              "      <th>lives_in_Wuhan</th>\n",
              "      <th>travel_history_dates</th>\n",
              "      <th>travel_history_location</th>\n",
              "      <th>reported_market_exposure</th>\n",
              "      <th>additional_information</th>\n",
              "      <th>chronic_disease_binary</th>\n",
              "      <th>chronic_disease</th>\n",
              "      <th>source</th>\n",
              "      <th>sequence_available</th>\n",
              "      <th>outcome</th>\n",
              "      <th>date_death_or_discharge</th>\n",
              "      <th>notes_for_discussion</th>\n",
              "      <th>location</th>\n",
              "      <th>admin3</th>\n",
              "      <th>admin2</th>\n",
              "      <th>admin1</th>\n",
              "      <th>country_new</th>\n",
              "      <th>admin_id</th>\n",
              "      <th>data_moderator_initials</th>\n",
              "      <th>travel_history_binary</th>\n",
              "    </tr>\n",
              "  </thead>\n",
              "  <tbody>\n",
              "    <tr>\n",
              "      <th>0</th>\n",
              "      <td>000-1-1</td>\n",
              "      <td>NaN</td>\n",
              "      <td>male</td>\n",
              "      <td>Shek Lei</td>\n",
              "      <td>Hong Kong</td>\n",
              "      <td>China</td>\n",
              "      <td>22.365019</td>\n",
              "      <td>114.133808</td>\n",
              "      <td>point</td>\n",
              "      <td>NaN</td>\n",
              "      <td>NaN</td>\n",
              "      <td>14.02.2020</td>\n",
              "      <td>NaN</td>\n",
              "      <td>NaN</td>\n",
              "      <td>22.01.2020</td>\n",
              "      <td>China</td>\n",
              "      <td>NaN</td>\n",
              "      <td>Case 55; mainland China travel via the Lok Ma ...</td>\n",
              "      <td>False</td>\n",
              "      <td>NaN</td>\n",
              "      <td>https://www.scmp.com/news/hong-kong/health-env...</td>\n",
              "      <td>NaN</td>\n",
              "      <td>critical condition, intubated as of 14.02.2020</td>\n",
              "      <td>NaN</td>\n",
              "      <td>NaN</td>\n",
              "      <td>Shek Lei</td>\n",
              "      <td>NaN</td>\n",
              "      <td>NaN</td>\n",
              "      <td>Hong Kong</td>\n",
              "      <td>China</td>\n",
              "      <td>8029.0</td>\n",
              "      <td>NaN</td>\n",
              "      <td>NaN</td>\n",
              "    </tr>\n",
              "    <tr>\n",
              "      <th>1</th>\n",
              "      <td>000-1-10</td>\n",
              "      <td>78</td>\n",
              "      <td>male</td>\n",
              "      <td>Vo Euganeo</td>\n",
              "      <td>Veneto</td>\n",
              "      <td>Italy</td>\n",
              "      <td>45.297748</td>\n",
              "      <td>11.658382</td>\n",
              "      <td>point</td>\n",
              "      <td>NaN</td>\n",
              "      <td>NaN</td>\n",
              "      <td>21.02.2020</td>\n",
              "      <td>NaN</td>\n",
              "      <td>NaN</td>\n",
              "      <td>NaN</td>\n",
              "      <td>NaN</td>\n",
              "      <td>NaN</td>\n",
              "      <td>Hospitalized on 12.02.2020 for other reasons</td>\n",
              "      <td>False</td>\n",
              "      <td>NaN</td>\n",
              "      <td>https://www.corriere.it/cronache/20_febbraio_2...</td>\n",
              "      <td>NaN</td>\n",
              "      <td>death</td>\n",
              "      <td>22.02.2020</td>\n",
              "      <td>NaN</td>\n",
              "      <td>Vo' Euganeo</td>\n",
              "      <td>NaN</td>\n",
              "      <td>NaN</td>\n",
              "      <td>Veneto</td>\n",
              "      <td>Italy</td>\n",
              "      <td>8954.0</td>\n",
              "      <td>NaN</td>\n",
              "      <td>NaN</td>\n",
              "    </tr>\n",
              "    <tr>\n",
              "      <th>2</th>\n",
              "      <td>000-1-100</td>\n",
              "      <td>61</td>\n",
              "      <td>female</td>\n",
              "      <td>NaN</td>\n",
              "      <td>NaN</td>\n",
              "      <td>Singapore</td>\n",
              "      <td>1.353460</td>\n",
              "      <td>103.815100</td>\n",
              "      <td>admin0</td>\n",
              "      <td>NaN</td>\n",
              "      <td>NaN</td>\n",
              "      <td>14.02.2020</td>\n",
              "      <td>NaN</td>\n",
              "      <td>NaN</td>\n",
              "      <td>NaN</td>\n",
              "      <td>NaN</td>\n",
              "      <td>NaN</td>\n",
              "      <td>Case 65; family member of Case 50, a DBS emplo...</td>\n",
              "      <td>False</td>\n",
              "      <td>NaN</td>\n",
              "      <td>https://www.channelnewsasia.com/news/singapore...</td>\n",
              "      <td>NaN</td>\n",
              "      <td>discharge</td>\n",
              "      <td>17.02.2020</td>\n",
              "      <td>NaN</td>\n",
              "      <td>NaN</td>\n",
              "      <td>NaN</td>\n",
              "      <td>NaN</td>\n",
              "      <td>NaN</td>\n",
              "      <td>Singapore</td>\n",
              "      <td>200.0</td>\n",
              "      <td>NaN</td>\n",
              "      <td>NaN</td>\n",
              "    </tr>\n",
              "    <tr>\n",
              "      <th>3</th>\n",
              "      <td>000-1-1000</td>\n",
              "      <td>NaN</td>\n",
              "      <td>NaN</td>\n",
              "      <td>Zhengzhou City</td>\n",
              "      <td>Henan</td>\n",
              "      <td>China</td>\n",
              "      <td>34.629310</td>\n",
              "      <td>113.468000</td>\n",
              "      <td>admin2</td>\n",
              "      <td>NaN</td>\n",
              "      <td>NaN</td>\n",
              "      <td>26.01.2020</td>\n",
              "      <td>NaN</td>\n",
              "      <td>NaN</td>\n",
              "      <td>NaN</td>\n",
              "      <td>NaN</td>\n",
              "      <td>NaN</td>\n",
              "      <td>NaN</td>\n",
              "      <td>False</td>\n",
              "      <td>NaN</td>\n",
              "      <td>https://news.163.com/special/epidemic/?spssid=...</td>\n",
              "      <td>NaN</td>\n",
              "      <td>NaN</td>\n",
              "      <td>NaN</td>\n",
              "      <td>NaN</td>\n",
              "      <td>NaN</td>\n",
              "      <td>NaN</td>\n",
              "      <td>Zhengzhou City</td>\n",
              "      <td>Henan</td>\n",
              "      <td>China</td>\n",
              "      <td>10091.0</td>\n",
              "      <td>NaN</td>\n",
              "      <td>NaN</td>\n",
              "    </tr>\n",
              "    <tr>\n",
              "      <th>4</th>\n",
              "      <td>000-1-10000</td>\n",
              "      <td>NaN</td>\n",
              "      <td>NaN</td>\n",
              "      <td>Pingxiang City</td>\n",
              "      <td>Jiangxi</td>\n",
              "      <td>China</td>\n",
              "      <td>27.513560</td>\n",
              "      <td>113.902900</td>\n",
              "      <td>admin2</td>\n",
              "      <td>NaN</td>\n",
              "      <td>NaN</td>\n",
              "      <td>14.02.2020</td>\n",
              "      <td>NaN</td>\n",
              "      <td>NaN</td>\n",
              "      <td>NaN</td>\n",
              "      <td>NaN</td>\n",
              "      <td>NaN</td>\n",
              "      <td>NaN</td>\n",
              "      <td>False</td>\n",
              "      <td>NaN</td>\n",
              "      <td>http://hc.jiangxi.gov.cn/doc/2020/02/15/138898...</td>\n",
              "      <td>NaN</td>\n",
              "      <td>NaN</td>\n",
              "      <td>NaN</td>\n",
              "      <td>NaN</td>\n",
              "      <td>NaN</td>\n",
              "      <td>NaN</td>\n",
              "      <td>Pingxiang City</td>\n",
              "      <td>Jiangxi</td>\n",
              "      <td>China</td>\n",
              "      <td>7060.0</td>\n",
              "      <td>NaN</td>\n",
              "      <td>NaN</td>\n",
              "    </tr>\n",
              "  </tbody>\n",
              "</table>\n",
              "</div>"
            ],
            "text/plain": [
              "            ID  age  ... data_moderator_initials travel_history_binary\n",
              "0      000-1-1  NaN  ...                     NaN                   NaN\n",
              "1     000-1-10   78  ...                     NaN                   NaN\n",
              "2    000-1-100   61  ...                     NaN                   NaN\n",
              "3   000-1-1000  NaN  ...                     NaN                   NaN\n",
              "4  000-1-10000  NaN  ...                     NaN                   NaN\n",
              "\n",
              "[5 rows x 33 columns]"
            ]
          },
          "metadata": {
            "tags": []
          },
          "execution_count": 19
        }
      ]
    },
    {
      "cell_type": "code",
      "metadata": {
        "id": "n9qfZrlORhsw"
      },
      "source": [
        "# garder seulement les variables intéressantes pour notre analyse:\n",
        "\n",
        "df= df1[['date_onset_symptoms','date_confirmation','date_death_or_discharge','date_admission_hospital','outcome','sex','age','country']]\n"
      ],
      "execution_count": 21,
      "outputs": []
    },
    {
      "cell_type": "code",
      "metadata": {
        "id": "Oct0uhbWZD-i"
      },
      "source": [
        "#renommer les colonnes des données\n",
        "\n",
        "df = df.rename(columns={\"date_onset_symptoms\": \"onset\", \"date_admission_hospital\": \"admission\", \"date_confirmation\" : \"confirmation\"\n",
        "                     , \"date_death_or_discharge\" : \"death_discharge\"})\n",
        "# indexing rows with no missing values\n",
        "index_onset = ~df['onset'].isna()\n",
        "index_admission = ~df['admission'].isna()\n",
        "index_confirmation = ~df['confirmation'].isna()\n",
        "index_death_discharge = ~df['death_discharge'].isna()"
      ],
      "execution_count": 23,
      "outputs": []
    },
    {
      "cell_type": "code",
      "metadata": {
        "id": "hLiUKN_pZQ55"
      },
      "source": [
        "# enlever les lignes où ces données sont manquantes simultanément:\n",
        "\n",
        "a = index_onset | index_admission  | index_death_discharge\n",
        "df = df[a]\n",
        "df= df.reset_index()\n",
        "df =  df.drop(['index'], axis=1)"
      ],
      "execution_count": 24,
      "outputs": []
    },
    {
      "cell_type": "code",
      "metadata": {
        "id": "_FG0Rb9hZcVH"
      },
      "source": [
        "#unifier les nomes des outcomes:\n",
        "\n",
        "for i in range(np.shape(df)[0]):\n",
        "    if df['outcome'][i] == 'discharged':\n",
        "        df['outcome'][i] = 'discharge'\n",
        "    elif df['outcome'][i] == 'Discharged':\n",
        "        df['outcome'][i] = 'discharge'\n",
        "    elif df['outcome'][i] == 'Death':\n",
        "        df['outcome'][i] = 'death'\n",
        "    elif df['outcome'][i] == 'died':\n",
        "        df['outcome'][i] = 'death'\n",
        "    elif df['outcome'][i] == 'dead':\n",
        "        df['outcome'][i] = 'death'\n",
        "    elif df['outcome'][i] == 'released from quarantine':\n",
        "        df['outcome'][i] = 'discharge'\n",
        "    elif df['outcome'][i] == 'stable':\n",
        "        df['outcome'][i] = 'discharge'\n",
        "    elif df['outcome'][i] == 'recovered':\n",
        "        df['outcome'][i] = 'discharge'\n",
        "    elif df['outcome'][i] == 'severe':\n",
        "        df['outcome'][i] = 'death'\n",
        "    elif df['outcome'][i] == 'severe':\n",
        "        df['outcome'][i] = 'death'"
      ],
      "execution_count": 27,
      "outputs": []
    },
    {
      "cell_type": "code",
      "metadata": {
        "id": "n9dEssJ3ZfvT"
      },
      "source": [
        "#enlever les outcomes inconnus\n",
        "df = df.drop([79,614])"
      ],
      "execution_count": 29,
      "outputs": []
    },
    {
      "cell_type": "code",
      "metadata": {
        "id": "GPo18IaabDv1"
      },
      "source": [
        "#Cette fois on analyse seulement les décharges (sorties) donc on enlève les décès:\n",
        "\n",
        "a = df['outcome'] == 'death'\n",
        "a = ~a\n",
        "df = df[a]\n",
        "df = df.reset_index()\n",
        "df =  df.drop(['index'], axis=1)"
      ],
      "execution_count": 30,
      "outputs": []
    },
    {
      "cell_type": "code",
      "metadata": {
        "id": "AnfBAfuHbQYS"
      },
      "source": [
        "#faire des assumptions sur les dates:\n",
        "\n",
        "for i in range(np.shape(df)[0]):\n",
        "    if index_onset[i] == False and index_admission[i] == True:\n",
        "        df['onset'][i] = df['admission'][i]\n",
        "    elif index_onset[i] == False and index_admission[i] == False and index_confirmation[i] == True:\n",
        "        df['onset'][i] = df['confirmation'][i]"
      ],
      "execution_count": 32,
      "outputs": []
    },
    {
      "cell_type": "code",
      "metadata": {
        "id": "VgX5hA65bRKT"
      },
      "source": [
        "#reformatter les dates:\n",
        "\n",
        "df['onset'] = df['onset'].apply(pd.to_datetime, dayfirst=True)\n",
        "df['confirmation'] = df['confirmation'].apply(pd.to_datetime, dayfirst=True)\n",
        "df['death_discharge'] = df['death_discharge'].apply(pd.to_datetime, dayfirst=True)"
      ],
      "execution_count": 34,
      "outputs": []
    },
    {
      "cell_type": "code",
      "metadata": {
        "id": "R577hOEVc177"
      },
      "source": [
        "#le status de censure:\n",
        "## NB: ce code peut mettre bcp de temps pour se lancer, il vaut mieux utiliser une machine puissante ou lancer le code sur google colab\n",
        "index_censoring = ~df['death_discharge'].isna()\n",
        "#calculer les evénements et le nombre de jours:\n",
        "\n",
        "event_censoring_days = []\n",
        "for i in range(np.shape(df)[0]):\n",
        "    if index_censoring[i] == False:\n",
        "        event_censoring_days = np.append(event_censoring_days,df['confirmation'].dt.dayofyear[i] - df['onset'].dt.dayofyear[i] )\n",
        "    elif index_censoring[i] == True:\n",
        "        event_censoring_days = np.append(event_censoring_days, df['death_discharge'].dt.dayofyear[i] - df['onset'].dt.dayofyear[i])\n",
        "# à cause de certaines inconsistances, quelques jours-évenements censurés sont négatifs, nous les enlevons et ajustons les données\n",
        "a = event_censoring_days > 0\n",
        "event_censoring_days = event_censoring_days[a]\n",
        "df = data[a]\n",
        "data = df.reset_index()\n",
        "df =  df.drop(['index'], axis=1)\n",
        "index_censoring = index_censoring[a]\n"
      ],
      "execution_count": null,
      "outputs": []
    },
    {
      "cell_type": "code",
      "metadata": {
        "id": "tysJjvPYfmQc"
      },
      "source": [
        "inddaypos = event_censoring_days > 0\n",
        "event_censoring_days = event_censoring_days[inddaypos]\n",
        "df = df[inddaypos]\n",
        "df = df.reset_index()\n",
        "df = df.drop(['index'], axis=1)\n",
        "\n",
        "index_censoring = index_censoring[inddaypos]"
      ],
      "execution_count": null,
      "outputs": []
    },
    {
      "cell_type": "code",
      "metadata": {
        "id": "p3XKH5MdfzBC"
      },
      "source": [
        "frm = {'event_censoring_days': event_censoring_days, 'status': index_censoring}\n",
        "data_y_unstructured = pd.DataFrame(data=frm)\n",
        "data_y_unstructured = data_y_unstructured[['status', 'event_censoring_days']]\n",
        "s = data_y_unstructured.dtypes\n",
        "data_y = np.array([tuple(x) for x in data_y_unstructured.values], dtype=list(zip(s.index, s)))"
      ],
      "execution_count": null,
      "outputs": []
    },
    {
      "cell_type": "code",
      "metadata": {
        "id": "jT1a6NopgLp0"
      },
      "source": [
        "gender = df['sex']\n",
        "gender = gender.astype('category')"
      ],
      "execution_count": 40,
      "outputs": []
    },
    {
      "cell_type": "code",
      "metadata": {
        "id": "321Orxt_gPns"
      },
      "source": [
        "# estimer la médiane de l'age et la visualiser:\n",
        "\n",
        "median = df['age'].median()\n",
        "#age_type = 'categorized'\n",
        "age_type = 'median'\n",
        "if age_type == 'median':\n",
        "    for i in range(len(df['age'])):\n",
        "        if df['age'][i] > median:\n",
        "            df['age'][i] = 'age > 46'\n",
        "        else:\n",
        "            df['age'][i] = 'age < 46'\n",
        "    for value in df['age'].unique():\n",
        "        mask = df['age'] == value\n",
        "        time, survival_prob =KaplanMeierFitter(data_y[\"status\"][mask],data_y[\"event_censoring_days\"][mask])\n",
        "        survival_prob = 1 - survival_prob\n",
        "        plt.step(time, survival_prob, where=\"post\",\n",
        "                 label=\"%s\" % (value))\n",
        "    plt.ylabel(\"est. probability of survival $\\hat{S}(t)$\")\n",
        "    plt.xlabel(\"time $t$\")\n",
        "    plt.legend(loc=\"best\")\n",
        "    limit = plt.gca()\n",
        "    limit.set_xlim([0,45])\n",
        "    limit.set_ylim([0, 1])\n",
        "    plt.savefig('covid_median_age.pdf')"
      ],
      "execution_count": null,
      "outputs": []
    },
    {
      "cell_type": "code",
      "metadata": {
        "id": "n-HgLzclhEYp"
      },
      "source": [
        "# Visualiser les estimations par rapport à l'âge:\n",
        "\n",
        "if age_type == 'categorized':\n",
        "    for i in range(len(df['age'])):\n",
        "        if df['age'][i] > 60:\n",
        "            df['age'][i] = 'age > 60'\n",
        "        elif df['age'][i] <= 60 and df['age'][i] > 46:\n",
        "            df['age'][i] = '46 < age < 60'\n",
        "        elif df['age'][i] <= 46 and df['age'][i] > 34:\n",
        "            df['age'][i] = '34 < age < 46'\n",
        "        else:\n",
        "            df['age'][i] = 'age < 34'\n",
        "    for value in df['age'].unique():\n",
        "        mask = df['age'] == value\n",
        "        time, survival_prob = KaplanMeierFitter(data_y[\"status\"][mask],data_y[\"event_censoring_days\"][mask])\n",
        "        survival_prob = 1 - survival_prob\n",
        "        plt.step(time, survival_prob, where=\"post\",\n",
        "                 label=\"%s\" % (value))\n",
        "\n",
        "    plt.ylabel(\"est. probability of survival $\\hat{S}(t)$\")\n",
        "    plt.xlabel(\"time $t$\")\n",
        "    plt.legend(loc=\"best\")\n",
        "    limit = plt.gca()\n",
        "    limit.set_xlim([0,37])\n",
        "    limit.set_ylim([0, 1])\n",
        "    plt.savefig('covid_age_categorized.pdf')"
      ],
      "execution_count": null,
      "outputs": []
    },
    {
      "cell_type": "code",
      "metadata": {
        "id": "uuUJSEcMhc3P"
      },
      "source": [
        "# visualiser les estimations par rapport au sexe:\n",
        "\n",
        "for value in gender.unique():\n",
        "    mask = gender == value\n",
        "    if value == 'male':\n",
        "        time_cell, survival_prob_cell = KaplanMeierFitter(data_y[\"status\"][mask],data_y[\"event_censoring_days\"][mask])\n",
        "        plt.step(time_cell, 1 - survival_prob_cell, where=\"post\", color = 'r',label=\"%s\" % (value))\n",
        "    else:\n",
        "        time_cell, survival_prob_cell = KaplanMeierFitter(data_y[\"status\"][mask],data_y[\"event_censoring_days\"][mask])\n",
        "        plt.step(time_cell, 1 - survival_prob_cell, where=\"post\",color = 'b',label=\"%s\" % (value))\n",
        "plt.ylabel(\"est. probability of discharge $\\hat{S}(t)$\")\n",
        "plt.xlabel(\"time $t$\")\n",
        "plt.legend(loc=\"best\")\n",
        "limit = plt.gca()\n",
        "limit.set_xlim([0, 42])\n",
        "limit.set_ylim([0, 1])\n",
        "plt.savefig('corona_gender_onset.pdf')"
      ],
      "execution_count": null,
      "outputs": []
    }
  ]
}